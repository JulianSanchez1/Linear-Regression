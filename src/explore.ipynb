{
    "cells": [
        {
            "cell_type": "markdown",
            "metadata": {},
            "source": [
                "# Explore here"
            ]
        },
        {
            "cell_type": "code",
            "execution_count": 26,
            "metadata": {},
            "outputs": [],
            "source": [
                "import pandas as pd\n",
                "import numpy as np\n",
                "import matplotlib.pyplot as plt\n",
                "import seaborn as sns\n",
                "from sklearn.model_selection import train_test_split, GridSearchCV, RandomizedSearchCV\n",
                "from scipy.stats import pointbiserialr\n",
                "from sklearn.linear_model import LogisticRegression\n",
                "from sklearn.preprocessing import LabelEncoder\n",
                "from sklearn.preprocessing import MinMaxScaler, StandardScaler\n",
                "import timeit\n",
                "import warnings\n",
                "warnings.filterwarnings(\"ignore\")\n",
                "from sklearn.feature_selection import f_classif, SelectKBest\n",
                "from sklearn.metrics import f1_score, make_scorer, mean_absolute_error, r2_score\n",
                "import pickle"
            ]
        },
        {
            "cell_type": "code",
            "execution_count": 7,
            "metadata": {},
            "outputs": [
                {
                    "data": {
                        "text/html": [
                            "<div>\n",
                            "<style scoped>\n",
                            "    .dataframe tbody tr th:only-of-type {\n",
                            "        vertical-align: middle;\n",
                            "    }\n",
                            "\n",
                            "    .dataframe tbody tr th {\n",
                            "        vertical-align: top;\n",
                            "    }\n",
                            "\n",
                            "    .dataframe thead th {\n",
                            "        text-align: right;\n",
                            "    }\n",
                            "</style>\n",
                            "<table border=\"1\" class=\"dataframe\">\n",
                            "  <thead>\n",
                            "    <tr style=\"text-align: right;\">\n",
                            "      <th></th>\n",
                            "      <th>age</th>\n",
                            "      <th>sex</th>\n",
                            "      <th>bmi</th>\n",
                            "      <th>children</th>\n",
                            "      <th>smoker</th>\n",
                            "      <th>region</th>\n",
                            "      <th>charges</th>\n",
                            "    </tr>\n",
                            "  </thead>\n",
                            "  <tbody>\n",
                            "    <tr>\n",
                            "      <th>0</th>\n",
                            "      <td>19</td>\n",
                            "      <td>female</td>\n",
                            "      <td>27.900</td>\n",
                            "      <td>0</td>\n",
                            "      <td>yes</td>\n",
                            "      <td>southwest</td>\n",
                            "      <td>16884.92400</td>\n",
                            "    </tr>\n",
                            "    <tr>\n",
                            "      <th>1</th>\n",
                            "      <td>18</td>\n",
                            "      <td>male</td>\n",
                            "      <td>33.770</td>\n",
                            "      <td>1</td>\n",
                            "      <td>no</td>\n",
                            "      <td>southeast</td>\n",
                            "      <td>1725.55230</td>\n",
                            "    </tr>\n",
                            "    <tr>\n",
                            "      <th>2</th>\n",
                            "      <td>28</td>\n",
                            "      <td>male</td>\n",
                            "      <td>33.000</td>\n",
                            "      <td>3</td>\n",
                            "      <td>no</td>\n",
                            "      <td>southeast</td>\n",
                            "      <td>4449.46200</td>\n",
                            "    </tr>\n",
                            "    <tr>\n",
                            "      <th>3</th>\n",
                            "      <td>33</td>\n",
                            "      <td>male</td>\n",
                            "      <td>22.705</td>\n",
                            "      <td>0</td>\n",
                            "      <td>no</td>\n",
                            "      <td>northwest</td>\n",
                            "      <td>21984.47061</td>\n",
                            "    </tr>\n",
                            "    <tr>\n",
                            "      <th>4</th>\n",
                            "      <td>32</td>\n",
                            "      <td>male</td>\n",
                            "      <td>28.880</td>\n",
                            "      <td>0</td>\n",
                            "      <td>no</td>\n",
                            "      <td>northwest</td>\n",
                            "      <td>3866.85520</td>\n",
                            "    </tr>\n",
                            "  </tbody>\n",
                            "</table>\n",
                            "</div>"
                        ],
                        "text/plain": [
                            "   age     sex     bmi  children smoker     region      charges\n",
                            "0   19  female  27.900         0    yes  southwest  16884.92400\n",
                            "1   18    male  33.770         1     no  southeast   1725.55230\n",
                            "2   28    male  33.000         3     no  southeast   4449.46200\n",
                            "3   33    male  22.705         0     no  northwest  21984.47061\n",
                            "4   32    male  28.880         0     no  northwest   3866.85520"
                        ]
                    },
                    "execution_count": 7,
                    "metadata": {},
                    "output_type": "execute_result"
                }
            ],
            "source": [
                "# Your code here\n",
                "url = \"https://raw.githubusercontent.com/4GeeksAcademy/linear-regression-project-tutorial/main/medical_insurance_cost.csv\"\n",
                "df = pd.read_csv(url)\n",
                "df.head()"
            ]
        },
        {
            "cell_type": "code",
            "execution_count": 17,
            "metadata": {},
            "outputs": [],
            "source": [
                "le = LabelEncoder()\n",
                "\n",
                "df_encoded = df.apply(le.fit_transform)"
            ]
        },
        {
            "cell_type": "code",
            "execution_count": 18,
            "metadata": {},
            "outputs": [
                {
                    "data": {
                        "text/html": [
                            "<div>\n",
                            "<style scoped>\n",
                            "    .dataframe tbody tr th:only-of-type {\n",
                            "        vertical-align: middle;\n",
                            "    }\n",
                            "\n",
                            "    .dataframe tbody tr th {\n",
                            "        vertical-align: top;\n",
                            "    }\n",
                            "\n",
                            "    .dataframe thead th {\n",
                            "        text-align: right;\n",
                            "    }\n",
                            "</style>\n",
                            "<table border=\"1\" class=\"dataframe\">\n",
                            "  <thead>\n",
                            "    <tr style=\"text-align: right;\">\n",
                            "      <th></th>\n",
                            "      <th>age</th>\n",
                            "      <th>sex</th>\n",
                            "      <th>bmi</th>\n",
                            "      <th>children</th>\n",
                            "      <th>smoker</th>\n",
                            "      <th>region</th>\n",
                            "      <th>charges</th>\n",
                            "    </tr>\n",
                            "  </thead>\n",
                            "  <tbody>\n",
                            "    <tr>\n",
                            "      <th>0</th>\n",
                            "      <td>1</td>\n",
                            "      <td>0</td>\n",
                            "      <td>197</td>\n",
                            "      <td>0</td>\n",
                            "      <td>1</td>\n",
                            "      <td>3</td>\n",
                            "      <td>1005</td>\n",
                            "    </tr>\n",
                            "    <tr>\n",
                            "      <th>1</th>\n",
                            "      <td>0</td>\n",
                            "      <td>1</td>\n",
                            "      <td>350</td>\n",
                            "      <td>1</td>\n",
                            "      <td>0</td>\n",
                            "      <td>2</td>\n",
                            "      <td>57</td>\n",
                            "    </tr>\n",
                            "    <tr>\n",
                            "      <th>2</th>\n",
                            "      <td>10</td>\n",
                            "      <td>1</td>\n",
                            "      <td>331</td>\n",
                            "      <td>3</td>\n",
                            "      <td>0</td>\n",
                            "      <td>2</td>\n",
                            "      <td>306</td>\n",
                            "    </tr>\n",
                            "    <tr>\n",
                            "      <th>3</th>\n",
                            "      <td>15</td>\n",
                            "      <td>1</td>\n",
                            "      <td>73</td>\n",
                            "      <td>0</td>\n",
                            "      <td>0</td>\n",
                            "      <td>1</td>\n",
                            "      <td>1097</td>\n",
                            "    </tr>\n",
                            "    <tr>\n",
                            "      <th>4</th>\n",
                            "      <td>14</td>\n",
                            "      <td>1</td>\n",
                            "      <td>223</td>\n",
                            "      <td>0</td>\n",
                            "      <td>0</td>\n",
                            "      <td>1</td>\n",
                            "      <td>254</td>\n",
                            "    </tr>\n",
                            "  </tbody>\n",
                            "</table>\n",
                            "</div>"
                        ],
                        "text/plain": [
                            "   age  sex  bmi  children  smoker  region  charges\n",
                            "0    1    0  197         0       1       3     1005\n",
                            "1    0    1  350         1       0       2       57\n",
                            "2   10    1  331         3       0       2      306\n",
                            "3   15    1   73         0       0       1     1097\n",
                            "4   14    1  223         0       0       1      254"
                        ]
                    },
                    "execution_count": 18,
                    "metadata": {},
                    "output_type": "execute_result"
                }
            ],
            "source": [
                "df_encoded.head()"
            ]
        },
        {
            "cell_type": "code",
            "execution_count": 19,
            "metadata": {},
            "outputs": [],
            "source": [
                "df_num = df.select_dtypes(include = np.number)"
            ]
        },
        {
            "cell_type": "code",
            "execution_count": 20,
            "metadata": {},
            "outputs": [],
            "source": [
                "df_cat = df.select_dtypes(include= \"O\")"
            ]
        },
        {
            "cell_type": "code",
            "execution_count": 29,
            "metadata": {},
            "outputs": [],
            "source": [
                "df_cat_enc = df_cat.apply(le.fit_transform)"
            ]
        },
        {
            "cell_type": "code",
            "execution_count": 28,
            "metadata": {},
            "outputs": [
                {
                    "data": {
                        "text/html": [
                            "<div>\n",
                            "<style scoped>\n",
                            "    .dataframe tbody tr th:only-of-type {\n",
                            "        vertical-align: middle;\n",
                            "    }\n",
                            "\n",
                            "    .dataframe tbody tr th {\n",
                            "        vertical-align: top;\n",
                            "    }\n",
                            "\n",
                            "    .dataframe thead th {\n",
                            "        text-align: right;\n",
                            "    }\n",
                            "</style>\n",
                            "<table border=\"1\" class=\"dataframe\">\n",
                            "  <thead>\n",
                            "    <tr style=\"text-align: right;\">\n",
                            "      <th></th>\n",
                            "      <th>sex</th>\n",
                            "      <th>smoker</th>\n",
                            "      <th>region</th>\n",
                            "    </tr>\n",
                            "  </thead>\n",
                            "  <tbody>\n",
                            "    <tr>\n",
                            "      <th>0</th>\n",
                            "      <td>0</td>\n",
                            "      <td>1</td>\n",
                            "      <td>3</td>\n",
                            "    </tr>\n",
                            "    <tr>\n",
                            "      <th>1</th>\n",
                            "      <td>1</td>\n",
                            "      <td>0</td>\n",
                            "      <td>2</td>\n",
                            "    </tr>\n",
                            "    <tr>\n",
                            "      <th>2</th>\n",
                            "      <td>1</td>\n",
                            "      <td>0</td>\n",
                            "      <td>2</td>\n",
                            "    </tr>\n",
                            "    <tr>\n",
                            "      <th>3</th>\n",
                            "      <td>1</td>\n",
                            "      <td>0</td>\n",
                            "      <td>1</td>\n",
                            "    </tr>\n",
                            "    <tr>\n",
                            "      <th>4</th>\n",
                            "      <td>1</td>\n",
                            "      <td>0</td>\n",
                            "      <td>1</td>\n",
                            "    </tr>\n",
                            "  </tbody>\n",
                            "</table>\n",
                            "</div>"
                        ],
                        "text/plain": [
                            "   sex  smoker  region\n",
                            "0    0       1       3\n",
                            "1    1       0       2\n",
                            "2    1       0       2\n",
                            "3    1       0       1\n",
                            "4    1       0       1"
                        ]
                    },
                    "execution_count": 28,
                    "metadata": {},
                    "output_type": "execute_result"
                }
            ],
            "source": [
                "df_cat_enc.head()"
            ]
        },
        {
            "cell_type": "code",
            "execution_count": 27,
            "metadata": {},
            "outputs": [],
            "source": [
                "df = pd.concat([df_num, df_encoded], axis=1)"
            ]
        },
        {
            "cell_type": "code",
            "execution_count": null,
            "metadata": {},
            "outputs": [],
            "source": []
        }
    ],
    "metadata": {
        "kernelspec": {
            "display_name": "Python 3.8.13 64-bit ('3.8.13')",
            "language": "python",
            "name": "python3"
        },
        "language_info": {
            "codemirror_mode": {
                "name": "ipython",
                "version": 3
            },
            "file_extension": ".py",
            "mimetype": "text/x-python",
            "name": "python",
            "nbconvert_exporter": "python",
            "pygments_lexer": "ipython3",
            "version": "3.10.12"
        },
        "orig_nbformat": 4,
        "vscode": {
            "interpreter": {
                "hash": "110cc1dee26208153f2972f08a2ad52b6a56238dc66d48e87fb757ef2996db56"
            }
        }
    },
    "nbformat": 4,
    "nbformat_minor": 2
}
